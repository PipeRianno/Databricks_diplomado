{
 "cells": [
  {
   "cell_type": "code",
   "execution_count": 0,
   "metadata": {
    "application/vnd.databricks.v1+cell": {
     "cellMetadata": {
      "byteLimit": 2048000,
      "implicitDf": true,
      "rowLimit": 10000
     },
     "inputWidgets": {},
     "nuid": "2050d76b-bae4-4c25-8215-68253b513630",
     "showTitle": false,
     "tableResultSettingsMap": {},
     "title": ""
    }
   },
   "outputs": [
    {
     "output_type": "display_data",
     "data": {
      "text/html": [
       "<style scoped>\n",
       "  .table-result-container {\n",
       "    max-height: 300px;\n",
       "    overflow: auto;\n",
       "  }\n",
       "  table, th, td {\n",
       "    border: 1px solid black;\n",
       "    border-collapse: collapse;\n",
       "  }\n",
       "  th, td {\n",
       "    padding: 5px;\n",
       "  }\n",
       "  th {\n",
       "    text-align: left;\n",
       "  }\n",
       "</style><div class='table-result-container'><table class='table-result'><thead style='background-color: white'><tr><th>nombre_de_la_entidad</th><th>departamento_entidad</th><th>estado_del_proceso</th><th>valor_contrato</th></tr></thead><tbody><tr><td>CÓRDOBA - ALCALDÍA MUNICIPIO DE AYAPEL</td><td>Córdoba</td><td>Celebrado</td><td>4035149854</td></tr><tr><td>CÓRDOBA - ALCALDÍA MUNICIPIO DE AYAPEL</td><td>Córdoba</td><td>Celebrado</td><td>3351463575</td></tr><tr><td>CÓRDOBA - ASOCIACION DE MUNICIPIOS SOSTENIBLES DE COLOMBIA - MONTERIA</td><td>Córdoba</td><td>Convocado</td><td>2845851243</td></tr><tr><td>CÓRDOBA - E.S.E. CAMU EL AMPARO - MONTERIA</td><td>Córdoba</td><td>Celebrado</td><td>2679335322</td></tr><tr><td>CASANARE - ALCALDÍA MUNICIPIO DE MONTERREY</td><td>Casanare</td><td>Terminado Anormalmente después de Convocado</td><td>1949093549</td></tr><tr><td>CÓRDOBA - E.S.E. CAMU EL AMPARO - MONTERIA</td><td>Córdoba</td><td>Celebrado</td><td>1945000000</td></tr><tr><td>CÓRDOBA - E.S.E. CAMU EL AMPARO - MONTERIA</td><td>Córdoba</td><td>Celebrado</td><td>1786863711</td></tr><tr><td>CÓRDOBA - E.S.E. CAMU EL AMPARO - MONTERIA</td><td>Córdoba</td><td>Celebrado</td><td>1762625692</td></tr><tr><td>CÓRDOBA - E.S.E. CAMU EL AMPARO - MONTERIA</td><td>Córdoba</td><td>Celebrado</td><td>1762625692</td></tr><tr><td>CÓRDOBA - E.S.E. CAMU EL AMPARO - MONTERIA</td><td>Córdoba</td><td>Celebrado</td><td>1724970738</td></tr></tbody></table></div>"
      ]
     },
     "metadata": {
      "application/vnd.databricks.v1+output": {
       "addedWidgets": {},
       "aggData": [],
       "aggError": "",
       "aggOverflow": false,
       "aggSchema": [],
       "aggSeriesLimitReached": false,
       "aggType": "",
       "arguments": {},
       "columnCustomDisplayInfos": {},
       "data": [
        [
         "CÓRDOBA - ALCALDÍA MUNICIPIO DE AYAPEL",
         "Córdoba",
         "Celebrado",
         4035149854
        ],
        [
         "CÓRDOBA - ALCALDÍA MUNICIPIO DE AYAPEL",
         "Córdoba",
         "Celebrado",
         3351463575
        ],
        [
         "CÓRDOBA - ASOCIACION DE MUNICIPIOS SOSTENIBLES DE COLOMBIA - MONTERIA",
         "Córdoba",
         "Convocado",
         2845851243
        ],
        [
         "CÓRDOBA - E.S.E. CAMU EL AMPARO - MONTERIA",
         "Córdoba",
         "Celebrado",
         2679335322
        ],
        [
         "CASANARE - ALCALDÍA MUNICIPIO DE MONTERREY",
         "Casanare",
         "Terminado Anormalmente después de Convocado",
         1949093549
        ],
        [
         "CÓRDOBA - E.S.E. CAMU EL AMPARO - MONTERIA",
         "Córdoba",
         "Celebrado",
         1945000000
        ],
        [
         "CÓRDOBA - E.S.E. CAMU EL AMPARO - MONTERIA",
         "Córdoba",
         "Celebrado",
         1786863711
        ],
        [
         "CÓRDOBA - E.S.E. CAMU EL AMPARO - MONTERIA",
         "Córdoba",
         "Celebrado",
         1762625692
        ],
        [
         "CÓRDOBA - E.S.E. CAMU EL AMPARO - MONTERIA",
         "Córdoba",
         "Celebrado",
         1762625692
        ],
        [
         "CÓRDOBA - E.S.E. CAMU EL AMPARO - MONTERIA",
         "Córdoba",
         "Celebrado",
         1724970738
        ]
       ],
       "datasetInfos": [
        {
         "name": "_sqldf",
         "schema": {
          "fields": [
           {
            "metadata": {},
            "name": "nombre_de_la_entidad",
            "nullable": true,
            "type": "string"
           },
           {
            "metadata": {},
            "name": "departamento_entidad",
            "nullable": true,
            "type": "string"
           },
           {
            "metadata": {},
            "name": "estado_del_proceso",
            "nullable": true,
            "type": "string"
           },
           {
            "metadata": {},
            "name": "valor_contrato",
            "nullable": true,
            "type": "long"
           }
          ],
          "type": "struct"
         },
         "tableIdentifier": null,
         "typeStr": "pyspark.sql.connect.dataframe.DataFrame"
        }
       ],
       "dbfsResultPath": null,
       "isJsonSchema": true,
       "metadata": {
        "createTempViewForImplicitDf": true,
        "dataframeName": "_sqldf",
        "executionCount": 2
       },
       "overflow": false,
       "plotOptions": {
        "customPlotOptions": {},
        "displayType": "table",
        "pivotAggregation": null,
        "pivotColumns": null,
        "xColumns": null,
        "yColumns": null
       },
       "removedWidgets": [],
       "schema": [
        {
         "metadata": "{}",
         "name": "nombre_de_la_entidad",
         "type": "\"string\""
        },
        {
         "metadata": "{}",
         "name": "departamento_entidad",
         "type": "\"string\""
        },
        {
         "metadata": "{}",
         "name": "estado_del_proceso",
         "type": "\"string\""
        },
        {
         "metadata": "{}",
         "name": "valor_contrato",
         "type": "\"long\""
        }
       ],
       "type": "table"
      }
     },
     "output_type": "display_data"
    }
   ],
   "source": [
    "%sql\n",
    "SELECT\n",
    "  nombre_de_la_entidad,\n",
    "  departamento_entidad,\n",
    "  estado_del_proceso,\n",
    "  valor_contrato\n",
    "FROM\n",
    "  main.diplomado_datos.secop\n",
    "ORDER BY\n",
    "  CAST(valor_contrato AS DOUBLE) DESC\n",
    "LIMIT 10;"
   ]
  }
 ],
 "metadata": {
  "application/vnd.databricks.v1+notebook": {
   "computePreferences": null,
   "dashboards": [],
   "environmentMetadata": {
    "base_environment": "",
    "environment_version": "2"
   },
   "inputWidgetPreferences": null,
   "language": "python",
   "notebookMetadata": {
    "mostRecentlyExecutedCommandWithImplicitDF": {
     "commandId": 5715131753617979,
     "dataframes": [
      "_sqldf"
     ]
    },
    "pythonIndentUnit": 4
   },
   "notebookName": "Consulta_datos",
   "widgets": {}
  },
  "language_info": {
   "name": "python"
  }
 },
 "nbformat": 4,
 "nbformat_minor": 0
}